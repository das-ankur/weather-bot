{
 "cells": [
  {
   "cell_type": "code",
   "execution_count": null,
   "id": "2aac02e1-0a22-4a14-ad34-05ae3902f3ba",
   "metadata": {
    "tags": []
   },
   "outputs": [],
   "source": [
    "# Installation\n",
    "!pip install -r requirements.txt --quiet"
   ]
  },
  {
   "cell_type": "code",
   "execution_count": null,
   "id": "990348ba-7fab-470a-9828-5d1058a49410",
   "metadata": {
    "tags": []
   },
   "outputs": [],
   "source": [
    "# Import libraries\n",
    "import gradio as gr\n",
    "from chat import chat"
   ]
  },
  {
   "cell_type": "code",
   "execution_count": null,
   "id": "285a8261-9ae4-45e1-89fa-ad8f087686d8",
   "metadata": {
    "tags": []
   },
   "outputs": [],
   "source": [
    "def chat_response(user_input, history):\n",
    "    return chat(user_input)"
   ]
  },
  {
   "cell_type": "code",
   "execution_count": null,
   "id": "45645e75-7018-4908-926d-6be0b3114a44",
   "metadata": {
    "tags": []
   },
   "outputs": [],
   "source": [
    "# Create the Gradio Chat Interface\n",
    "chatbot = gr.ChatInterface(\n",
    "    fn=chat_response, \n",
    "    type=\"messages\"\n",
    ")"
   ]
  },
  {
   "cell_type": "code",
   "execution_count": null,
   "id": "c0041209-56a8-4657-a58c-81a68c6ca0b4",
   "metadata": {
    "tags": []
   },
   "outputs": [],
   "source": [
    "chatbot.launch(share=True)"
   ]
  },
  {
   "cell_type": "code",
   "execution_count": null,
   "id": "876bf0a1-8370-47f2-b0b6-7a83b34a9fb0",
   "metadata": {
    "tags": []
   },
   "outputs": [],
   "source": [
    "# Close the connection\n",
    "chatbot.close()"
   ]
  },
  {
   "cell_type": "code",
   "execution_count": null,
   "id": "36d531ce-69a4-4c90-9262-7fa8d40acb2b",
   "metadata": {},
   "outputs": [],
   "source": []
  }
 ],
 "metadata": {
  "kernelspec": {
   "display_name": "Python 3 (ipykernel)",
   "language": "python",
   "name": "python3"
  },
  "language_info": {
   "codemirror_mode": {
    "name": "ipython",
    "version": 3
   },
   "file_extension": ".py",
   "mimetype": "text/x-python",
   "name": "python",
   "nbconvert_exporter": "python",
   "pygments_lexer": "ipython3",
   "version": "3.11.7"
  }
 },
 "nbformat": 4,
 "nbformat_minor": 5
}
